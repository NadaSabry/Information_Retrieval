{
 "cells": [
  {
   "cell_type": "code",
   "execution_count": 1,
   "id": "5c16d497",
   "metadata": {},
   "outputs": [],
   "source": [
    "import nltk\n",
    "from nltk.tokenize import TweetTokenizer  # token by meaning word\n",
    "from nltk.corpus import stopwords #english stopword\n",
    "from prettytable import PrettyTable #table\n",
    "import numpy as np\n",
    "import math\n",
    "\n",
    "#pip install nltk\n",
    "#nltk.download('stopwords')"
   ]
  },
  {
   "cell_type": "markdown",
   "id": "f0af40ab",
   "metadata": {},
   "source": [
    "# # Read File"
   ]
  },
  {
   "cell_type": "code",
   "execution_count": 2,
   "id": "d671b565",
   "metadata": {},
   "outputs": [],
   "source": [
    "Document = []\n",
    "for i in range(1,11):\n",
    "    path = \"E:\\\\level-4\\\\Term_1\\\\IR\\\\project\\\\Document\\\\\" + str(i) + \".txt\";\n",
    "    file = open(path)\n",
    "    Document.append(file.read())\n",
    "    file.close();"
   ]
  },
  {
   "cell_type": "code",
   "execution_count": 3,
   "id": "92ae17c0",
   "metadata": {},
   "outputs": [
    {
     "name": "stdout",
     "output_type": "stream",
     "text": [
      "Document # 1  :  antony brutus caeser cleopatra mercy worser\n",
      "Document # 2  :  antony brutus caeser calpurnia \n",
      "Document # 3  :  mercy worser\n",
      "Document # 4  :  brutus caeser mercy worser\n",
      "Document # 5  :  caeser mercy worser\n",
      "Document # 6  :  antony caeser mercy \n",
      "Document # 7  :  angels fools fear in rush to tread where\n",
      "Document # 8  :  angels fools fear in rush to tread where\n",
      "Document # 9  :  angels fools in rush to tread where\n",
      "Document # 10  :  fools fear in rush to tread where\n"
     ]
    }
   ],
   "source": [
    "for i in range(0,10):\n",
    "    print(\"Document #\" ,i+1 , \" : \",Document[i])\n",
    "#antony brutus caeser cleopatra mercy worser"
   ]
  },
  {
   "cell_type": "markdown",
   "id": "89e216d4",
   "metadata": {},
   "source": [
    "# #1 Tokenization"
   ]
  },
  {
   "cell_type": "code",
   "execution_count": 4,
   "id": "01d135e8",
   "metadata": {},
   "outputs": [
    {
     "name": "stdout",
     "output_type": "stream",
     "text": [
      "[['antony', 'brutus', 'caeser', 'cleopatra', 'mercy', 'worser'], ['antony', 'brutus', 'caeser', 'calpurnia'], ['mercy', 'worser'], ['brutus', 'caeser', 'mercy', 'worser'], ['caeser', 'mercy', 'worser'], ['antony', 'caeser', 'mercy'], ['angels', 'fools', 'fear', 'in', 'rush', 'to', 'tread', 'where'], ['angels', 'fools', 'fear', 'in', 'rush', 'to', 'tread', 'where'], ['angels', 'fools', 'in', 'rush', 'to', 'tread', 'where'], ['fools', 'fear', 'in', 'rush', 'to', 'tread', 'where']]\n"
     ]
    }
   ],
   "source": [
    "token = []\n",
    "tknzr = TweetTokenizer() #take object Abd Al rahman\n",
    "for i in range(0,10): #each document\n",
    "    token.append(tknzr.tokenize(Document[i]))\n",
    "print(token)"
   ]
  },
  {
   "cell_type": "markdown",
   "id": "486a7b28",
   "metadata": {},
   "source": [
    "# #Remove stop words"
   ]
  },
  {
   "cell_type": "code",
   "execution_count": 5,
   "id": "df94effa",
   "metadata": {},
   "outputs": [
    {
     "name": "stdout",
     "output_type": "stream",
     "text": [
      "[['antony', 'brutus', 'caeser', 'cleopatra', 'mercy', 'worser'], ['antony', 'brutus', 'caeser', 'calpurnia'], ['mercy', 'worser'], ['brutus', 'caeser', 'mercy', 'worser'], ['caeser', 'mercy', 'worser'], ['antony', 'caeser', 'mercy'], ['angels', 'fools', 'fear', 'in', 'rush', 'to', 'tread', 'where'], ['angels', 'fools', 'fear', 'in', 'rush', 'to', 'tread', 'where'], ['angels', 'fools', 'in', 'rush', 'to', 'tread', 'where'], ['fools', 'fear', 'in', 'rush', 'to', 'tread', 'where']]\n"
     ]
    }
   ],
   "source": [
    "english_stopwords = set(stopwords.words('english'))\n",
    "#print(english_stopwords,\"\\n-----------------------------------------------------------------------------------------------\\n\")\n",
    "Token = []\n",
    "for i in range(0,10):\n",
    "    Token.append([word for word in token[i] if word not in english_stopwords or word =='in' or word =='to'or word=='where'])\n",
    "print (Token)"
   ]
  },
  {
   "cell_type": "code",
   "execution_count": 8,
   "id": "8796357b",
   "metadata": {},
   "outputs": [
    {
     "name": "stdout",
     "output_type": "stream",
     "text": [
      "N = 10 , M = 15\n",
      "-------------------------------------------------------------------------------\n",
      "Terms = ['antony', 'brutus', 'caeser', 'cleopatra', 'mercy', 'worser', 'calpurnia', 'angels', 'fools', 'fear', 'in', 'rush', 'to', 'tread', 'where']\n"
     ]
    }
   ],
   "source": [
    "# get all terms \n",
    "Term = []    \n",
    "for documnt in range(0,10):\n",
    "    for term in range(0,len(Token[documnt])):\n",
    "        if Token[documnt][term] not in Term:\n",
    "            Term.append(Token[documnt][term])\n",
    "            \n",
    "N=len(Document) #number of documents\n",
    "M=len(Term)     #number of terms\n",
    "#print(f\"N= {N}\")\n",
    "print(\"N =\" , N , \", M =\",M)\n",
    "print(\"-------------------------------------------------------------------------------\")\n",
    "        \n",
    "print (\"Terms =\",Term)\n",
    "#contain [where term]"
   ]
  },
  {
   "cell_type": "markdown",
   "id": "c4488559",
   "metadata": {},
   "source": [
    "# #2 positional_index"
   ]
  },
  {
   "cell_type": "code",
   "execution_count": 9,
   "id": "ee540efa",
   "metadata": {},
   "outputs": [
    {
     "name": "stdout",
     "output_type": "stream",
     "text": [
      "antony :\t {0: [0], 1: [0], 5: [0]}\n",
      "brutus :\t {0: [1], 1: [1], 3: [0]}\n",
      "caeser :\t {0: [2], 1: [2], 3: [1], 4: [0], 5: [1]}\n",
      "cleopatra :\t {0: [3]}\n",
      "mercy :\t {0: [4], 2: [0], 3: [2], 4: [1], 5: [2]}\n",
      "worser :\t {0: [5], 2: [1], 3: [3], 4: [2]}\n",
      "calpurnia :\t {1: [3]}\n",
      "angels :\t {6: [0], 7: [0], 8: [0]}\n",
      "fools :\t {6: [1], 7: [1], 8: [1], 9: [0]}\n",
      "fear :\t {6: [2], 7: [2], 9: [1]}\n",
      "in :\t {6: [3], 7: [3], 8: [2], 9: [2]}\n",
      "rush :\t {6: [4], 7: [4], 8: [3], 9: [3]}\n",
      "to :\t {6: [5], 7: [5], 8: [4], 9: [4]}\n",
      "tread :\t {6: [6], 7: [6], 8: [5], 9: [5]}\n",
      "where :\t {6: [7], 7: [7], 8: [6], 9: [6]}\n"
     ]
    }
   ],
   "source": [
    "positional_index = {}\n",
    "\n",
    "for term in Term:\n",
    "    for documnt in range(0,10):                     #['antony', 'brutus', 'caeser', 'cleopatra', 'mercy', 'worser']\n",
    "        if term in Token[documnt]:\n",
    "            position = []\n",
    "            for pos in range(0,len(Token[documnt])):\n",
    "                if term == Token[documnt][pos]:\n",
    "                    position.append(pos)\n",
    "            positional_index.setdefault(term, {})[documnt] = position #dictionary\n",
    "        \n",
    "for x in positional_index:\n",
    "    print(x , \":\\t\" , positional_index[x])  "
   ]
  },
  {
   "cell_type": "markdown",
   "id": "a9a0ae10",
   "metadata": {},
   "source": [
    "### {Term : { D1: [0,2,5] , D3: [2,3] } }"
   ]
  },
  {
   "cell_type": "markdown",
   "id": "b3e8fb45",
   "metadata": {},
   "source": [
    "# #2.2 Query Phrase "
   ]
  },
  {
   "cell_type": "code",
   "execution_count": 18,
   "id": "46759631",
   "metadata": {},
   "outputs": [],
   "source": [
    "def Clean(query):\n",
    "    query = tknzr.tokenize(query) #tokenization / #Remove stopwords\n",
    "    queryTokens = ([word for word in query if word not in english_stopwords or word =='in' or word =='to' or word=='where'])\n",
    "    return queryTokens\n",
    "\n",
    "                                                              #query = antony brutus\n",
    "def Search(query):                                            #antony={0: [0], 1: [0], 5: [0]}\n",
    "    query=Clean(query)                                        #brutus={0: [1], 1: [1], 3: [0]}\n",
    "    \n",
    "    doc_result={}\n",
    "    if len(query) > 0 and query[0] in positional_index:        #query!=null & antony in positional_index ?\n",
    "        doc_result = positional_index[query[0]]                # doc_result = {0: [0], 1: [0], 5: [0]} is antony list\n",
    "    \n",
    "        for i in range(1,len(query)):                          #i=1, query[1]=brutus\n",
    "            Filter={}                                          #result of (antony & brutus)\n",
    "            for doc in doc_result:                                     # doc = 0\n",
    "                if query[i] in positional_index and doc in positional_index[query[i]]:#query[i]=\"brutus\"/if doc(0) in brutus dictionary ?\n",
    "                    for index in doc_result[doc]:                      # index = 0\n",
    "                        if index+1 in positional_index[query[i]][doc]: # if indx+1=(1) in [brutus][D0] list ?\n",
    "                            \n",
    "                            if doc in Filter:\n",
    "                                Filter[doc].append(index+1)\n",
    "                            else: \n",
    "                                Filter[doc] = [index+1]                 # first insertion\n",
    "            doc_result = Filter\n",
    "    if len(doc_result) == 0:\n",
    "        return \"none\"\n",
    "    else:\n",
    "        return doc_result"
   ]
  },
  {
   "cell_type": "code",
   "execution_count": 19,
   "id": "0da8a1f1",
   "metadata": {},
   "outputs": [
    {
     "name": "stdout",
     "output_type": "stream",
     "text": [
      "Enter Your Query: antony\n",
      "D1 D2 D6 "
     ]
    }
   ],
   "source": [
    "query = input(\"Enter Your Query: \")\n",
    "x = Search(query)\n",
    "if x=='none':\n",
    "    print(x)\n",
    "else:\n",
    "    for doc in x:\n",
    "        s = \"D\" + str(doc+1)\n",
    "        print(s, end = ' ')"
   ]
  },
  {
   "cell_type": "markdown",
   "id": "89f7109d",
   "metadata": {},
   "source": [
    "# Document Ranked "
   ]
  },
  {
   "cell_type": "markdown",
   "id": "1e4a2047",
   "metadata": {},
   "source": [
    "### (1) Term Frequence (tf)\n",
    "#### [ Number of the term in each doc ]"
   ]
  },
  {
   "cell_type": "code",
   "execution_count": 20,
   "id": "b93325a5",
   "metadata": {},
   "outputs": [],
   "source": [
    "def printTable(Matrix):\n",
    "    table = PrettyTable()\n",
    "    table.field_names=[\" \",\"D1\", \"D2\", \"D3\",\"D4\", \"D5\", \"D6\",\"D7\", \"D8\", \"D9\",\"D10\"]\n",
    "    for i in range(0,M):\n",
    "        l = []\n",
    "        l.append(Term[i])\n",
    "        for j in range(0,N):\n",
    "            l.append(Matrix[i][j])\n",
    "        table.add_row(l)\n",
    "    print(table)"
   ]
  },
  {
   "cell_type": "code",
   "execution_count": 21,
   "id": "56fa948e",
   "metadata": {},
   "outputs": [
    {
     "name": "stdout",
     "output_type": "stream",
     "text": [
      "'tf'\n",
      "\n",
      "+-----------+----+----+----+----+----+----+----+----+----+-----+\n",
      "|           | D1 | D2 | D3 | D4 | D5 | D6 | D7 | D8 | D9 | D10 |\n",
      "+-----------+----+----+----+----+----+----+----+----+----+-----+\n",
      "|   antony  | 1  | 1  | 0  | 0  | 0  | 1  | 0  | 0  | 0  |  0  |\n",
      "|   brutus  | 1  | 1  | 0  | 1  | 0  | 0  | 0  | 0  | 0  |  0  |\n",
      "|   caeser  | 1  | 1  | 0  | 1  | 1  | 1  | 0  | 0  | 0  |  0  |\n",
      "| cleopatra | 1  | 0  | 0  | 0  | 0  | 0  | 0  | 0  | 0  |  0  |\n",
      "|   mercy   | 1  | 0  | 1  | 1  | 1  | 1  | 0  | 0  | 0  |  0  |\n",
      "|   worser  | 1  | 0  | 1  | 1  | 1  | 0  | 0  | 0  | 0  |  0  |\n",
      "| calpurnia | 0  | 1  | 0  | 0  | 0  | 0  | 0  | 0  | 0  |  0  |\n",
      "|   angels  | 0  | 0  | 0  | 0  | 0  | 0  | 1  | 1  | 1  |  0  |\n",
      "|   fools   | 0  | 0  | 0  | 0  | 0  | 0  | 1  | 1  | 1  |  1  |\n",
      "|    fear   | 0  | 0  | 0  | 0  | 0  | 0  | 1  | 1  | 0  |  1  |\n",
      "|     in    | 0  | 0  | 0  | 0  | 0  | 0  | 1  | 1  | 1  |  1  |\n",
      "|    rush   | 0  | 0  | 0  | 0  | 0  | 0  | 1  | 1  | 1  |  1  |\n",
      "|     to    | 0  | 0  | 0  | 0  | 0  | 0  | 1  | 1  | 1  |  1  |\n",
      "|   tread   | 0  | 0  | 0  | 0  | 0  | 0  | 1  | 1  | 1  |  1  |\n",
      "|   where   | 0  | 0  | 0  | 0  | 0  | 0  | 1  | 1  | 1  |  1  |\n",
      "+-----------+----+----+----+----+----+----+----+----+----+-----+\n"
     ]
    }
   ],
   "source": [
    "tf = []\n",
    "for t in Term:\n",
    "    row = []\n",
    "    for i in range(0,10):\n",
    "        row.append(Token[i].count(t))\n",
    "    tf.append(row)\n",
    "#print-----------------------------------------------------------------------------       \n",
    "print(\"'tf'\\n\")\n",
    "printTable(tf)"
   ]
  },
  {
   "cell_type": "markdown",
   "id": "3a237c6b",
   "metadata": {},
   "source": [
    "### (2) w tf(1+log(tf))"
   ]
  },
  {
   "cell_type": "code",
   "execution_count": 22,
   "id": "8df76843",
   "metadata": {},
   "outputs": [
    {
     "name": "stdout",
     "output_type": "stream",
     "text": [
      "'tf_wt'\n",
      "\n",
      "+-----------+-----+-----+-----+-----+-----+-----+-----+-----+-----+-----+\n",
      "|           |  D1 |  D2 |  D3 |  D4 |  D5 |  D6 |  D7 |  D8 |  D9 | D10 |\n",
      "+-----------+-----+-----+-----+-----+-----+-----+-----+-----+-----+-----+\n",
      "|   antony  | 1.0 | 1.0 |  0  |  0  |  0  | 1.0 |  0  |  0  |  0  |  0  |\n",
      "|   brutus  | 1.0 | 1.0 |  0  | 1.0 |  0  |  0  |  0  |  0  |  0  |  0  |\n",
      "|   caeser  | 1.0 | 1.0 |  0  | 1.0 | 1.0 | 1.0 |  0  |  0  |  0  |  0  |\n",
      "| cleopatra | 1.0 |  0  |  0  |  0  |  0  |  0  |  0  |  0  |  0  |  0  |\n",
      "|   mercy   | 1.0 |  0  | 1.0 | 1.0 | 1.0 | 1.0 |  0  |  0  |  0  |  0  |\n",
      "|   worser  | 1.0 |  0  | 1.0 | 1.0 | 1.0 |  0  |  0  |  0  |  0  |  0  |\n",
      "| calpurnia |  0  | 1.0 |  0  |  0  |  0  |  0  |  0  |  0  |  0  |  0  |\n",
      "|   angels  |  0  |  0  |  0  |  0  |  0  |  0  | 1.0 | 1.0 | 1.0 |  0  |\n",
      "|   fools   |  0  |  0  |  0  |  0  |  0  |  0  | 1.0 | 1.0 | 1.0 | 1.0 |\n",
      "|    fear   |  0  |  0  |  0  |  0  |  0  |  0  | 1.0 | 1.0 |  0  | 1.0 |\n",
      "|     in    |  0  |  0  |  0  |  0  |  0  |  0  | 1.0 | 1.0 | 1.0 | 1.0 |\n",
      "|    rush   |  0  |  0  |  0  |  0  |  0  |  0  | 1.0 | 1.0 | 1.0 | 1.0 |\n",
      "|     to    |  0  |  0  |  0  |  0  |  0  |  0  | 1.0 | 1.0 | 1.0 | 1.0 |\n",
      "|   tread   |  0  |  0  |  0  |  0  |  0  |  0  | 1.0 | 1.0 | 1.0 | 1.0 |\n",
      "|   where   |  0  |  0  |  0  |  0  |  0  |  0  | 1.0 | 1.0 | 1.0 | 1.0 |\n",
      "+-----------+-----+-----+-----+-----+-----+-----+-----+-----+-----+-----+\n"
     ]
    }
   ],
   "source": [
    "#M=15 , N=10 (M*N)\n",
    "\n",
    "tf_wt = tf\n",
    "for i in range(0,M):\n",
    "    for j in range(0,N):\n",
    "        if tf[i][j]==0:\n",
    "            tf_wt[i][j]=0\n",
    "        else:\n",
    "            tf_wt[i][j]=1 + math.log10(tf[i][j])\n",
    "#print-----------------------------------------------------------------------------       \n",
    "\n",
    "print(\"'tf_wt'\\n\")\n",
    "printTable(tf_wt)"
   ]
  },
  {
   "cell_type": "markdown",
   "id": "1634bee5",
   "metadata": {},
   "source": [
    "### (3) Document Frequency(df) , Inverse Document Frequency(idf) \n",
    "#### df = Number of the doc \n",
    "#### idf = log10(N/df)"
   ]
  },
  {
   "cell_type": "code",
   "execution_count": 23,
   "id": "ce3b4516",
   "metadata": {},
   "outputs": [
    {
     "name": "stdout",
     "output_type": "stream",
     "text": [
      "+-----------+----+--------------+\n",
      "|           | df |     idf      |\n",
      "+-----------+----+--------------+\n",
      "|   antony  | 3  | 0.5228787453 |\n",
      "|   brutus  | 3  | 0.5228787453 |\n",
      "|   caeser  | 5  | 0.3010299957 |\n",
      "| cleopatra | 1  |     1.0      |\n",
      "|   mercy   | 5  | 0.3010299957 |\n",
      "|   worser  | 4  | 0.3979400087 |\n",
      "| calpurnia | 1  |     1.0      |\n",
      "|   angels  | 3  | 0.5228787453 |\n",
      "|   fools   | 4  | 0.3979400087 |\n",
      "|    fear   | 3  | 0.5228787453 |\n",
      "|     in    | 4  | 0.3979400087 |\n",
      "|    rush   | 4  | 0.3979400087 |\n",
      "|     to    | 4  | 0.3979400087 |\n",
      "|   tread   | 4  | 0.3979400087 |\n",
      "|   where   | 4  | 0.3979400087 |\n",
      "+-----------+----+--------------+\n"
     ]
    }
   ],
   "source": [
    "df=[]\n",
    "idf=[]\n",
    "\n",
    "for i in range(0,M):\n",
    "    df.append(len(positional_index[Term[i]]))\n",
    "    if df[i] == 0:\n",
    "        idf.append(0)  \n",
    "    else: \n",
    "        idf.append(round(math.log10(N/df[i]),10))\n",
    "\n",
    "#print----------------------------------------------------------------------------- \n",
    "\n",
    "table = PrettyTable()\n",
    "table.field_names=[\" \",\"df\", \"idf\"]\n",
    "for i in range(0,M):\n",
    "    table.add_row([ Term[i], df[i] , idf[i] ]) \n",
    "print(table)\n",
    "        "
   ]
  },
  {
   "cell_type": "markdown",
   "id": "4a584c56",
   "metadata": {},
   "source": [
    "### (4) tf*idf\n",
    "#### tf_wt * idf"
   ]
  },
  {
   "cell_type": "code",
   "execution_count": 24,
   "id": "8bc80a40",
   "metadata": {},
   "outputs": [
    {
     "name": "stdout",
     "output_type": "stream",
     "text": [
      "'tf_idf'\n",
      "+-----------+----------+----------+---------+----------+---------+----------+----------+----------+----------+----------+\n",
      "|           |    D1    |    D2    |    D3   |    D4    |    D5   |    D6    |    D7    |    D8    |    D9    |   D10    |\n",
      "+-----------+----------+----------+---------+----------+---------+----------+----------+----------+----------+----------+\n",
      "|   antony  | 0.522879 | 0.522879 |   0.0   |   0.0    |   0.0   | 0.522879 |   0.0    |   0.0    |   0.0    |   0.0    |\n",
      "|   brutus  | 0.522879 | 0.522879 |   0.0   | 0.522879 |   0.0   |   0.0    |   0.0    |   0.0    |   0.0    |   0.0    |\n",
      "|   caeser  | 0.30103  | 0.30103  |   0.0   | 0.30103  | 0.30103 | 0.30103  |   0.0    |   0.0    |   0.0    |   0.0    |\n",
      "| cleopatra |   1.0    |   0.0    |   0.0   |   0.0    |   0.0   |   0.0    |   0.0    |   0.0    |   0.0    |   0.0    |\n",
      "|   mercy   | 0.30103  |   0.0    | 0.30103 | 0.30103  | 0.30103 | 0.30103  |   0.0    |   0.0    |   0.0    |   0.0    |\n",
      "|   worser  | 0.39794  |   0.0    | 0.39794 | 0.39794  | 0.39794 |   0.0    |   0.0    |   0.0    |   0.0    |   0.0    |\n",
      "| calpurnia |   0.0    |   1.0    |   0.0   |   0.0    |   0.0   |   0.0    |   0.0    |   0.0    |   0.0    |   0.0    |\n",
      "|   angels  |   0.0    |   0.0    |   0.0   |   0.0    |   0.0   |   0.0    | 0.522879 | 0.522879 | 0.522879 |   0.0    |\n",
      "|   fools   |   0.0    |   0.0    |   0.0   |   0.0    |   0.0   |   0.0    | 0.39794  | 0.39794  | 0.39794  | 0.39794  |\n",
      "|    fear   |   0.0    |   0.0    |   0.0   |   0.0    |   0.0   |   0.0    | 0.522879 | 0.522879 |   0.0    | 0.522879 |\n",
      "|     in    |   0.0    |   0.0    |   0.0   |   0.0    |   0.0   |   0.0    | 0.39794  | 0.39794  | 0.39794  | 0.39794  |\n",
      "|    rush   |   0.0    |   0.0    |   0.0   |   0.0    |   0.0   |   0.0    | 0.39794  | 0.39794  | 0.39794  | 0.39794  |\n",
      "|     to    |   0.0    |   0.0    |   0.0   |   0.0    |   0.0   |   0.0    | 0.39794  | 0.39794  | 0.39794  | 0.39794  |\n",
      "|   tread   |   0.0    |   0.0    |   0.0   |   0.0    |   0.0   |   0.0    | 0.39794  | 0.39794  | 0.39794  | 0.39794  |\n",
      "|   where   |   0.0    |   0.0    |   0.0   |   0.0    |   0.0   |   0.0    | 0.39794  | 0.39794  | 0.39794  | 0.39794  |\n",
      "+-----------+----------+----------+---------+----------+---------+----------+----------+----------+----------+----------+\n"
     ]
    }
   ],
   "source": [
    "tf_idf = []\n",
    "for i in range(0,M): #term\n",
    "    row=[]\n",
    "    for j in range(0,N): #document\n",
    "        row.append(round(tf_wt[i][j]*idf[i],6))\n",
    "    tf_idf.append(row)\n",
    "    \n",
    "#print-----------------------------------------------------------------------------     \n",
    "\n",
    "print(\"'tf_idf'\")\n",
    "printTable(tf_idf)"
   ]
  },
  {
   "attachments": {
    "image.png": {
     "image/png": "[encoded data removed]"
    }
   },
   "cell_type": "markdown",
   "id": "9f1c25f3",
   "metadata": {},
   "source": [
    "### (5) Document length\n",
    "#### doc length = for each vector(column) in matrix tf*idf \n",
    "![image.png](attachment:image.png)"
   ]
  },
  {
   "cell_type": "code",
   "execution_count": 25,
   "id": "dce65241",
   "metadata": {},
   "outputs": [
    {
     "name": "stdout",
     "output_type": "stream",
     "text": [
      "d1 length    1.373462509\n",
      "d2 length    1.279618677\n",
      "d3 length    0.498974252\n",
      "d4 length    0.782941131\n",
      "d5 length    0.582747257\n",
      "d6 length    0.674270399\n",
      "d7 length    1.223495958\n",
      "d8 length    1.223495958\n",
      "d9 length    1.106137383\n",
      "d10 length    1.106137383\n"
     ]
    }
   ],
   "source": [
    "doc_length = []\n",
    "for doc in range(0,N): #document\n",
    "    Sum = 0\n",
    "    for t in range(0,M): #term\n",
    "        Sum+=(tf_idf[t][doc]*tf_idf[t][doc])\n",
    "    doc_length.append(round(math.sqrt(Sum),9))\n",
    "    \n",
    "#print-----------------------------------------------------------------------------\n",
    "\n",
    "for i in range(0,N):\n",
    "    print(\"d\"+str(i+1),\"length   \",doc_length[i])\n",
    "    "
   ]
  },
  {
   "cell_type": "markdown",
   "id": "f4919348",
   "metadata": {},
   "source": [
    "### (6) Normalized tf.idf\n",
    "#### each cell / doc_length(docN)"
   ]
  },
  {
   "cell_type": "code",
   "execution_count": 26,
   "id": "58b53d48",
   "metadata": {},
   "outputs": [
    {
     "name": "stdout",
     "output_type": "stream",
     "text": [
      "'doc_nliz'\n",
      "+-----------+----------+----------+----------+----------+----------+----------+----------+----------+----------+----------+\n",
      "|           |    D1    |    D2    |    D3    |    D4    |    D5    |    D6    |    D7    |    D8    |    D9    |   D10    |\n",
      "+-----------+----------+----------+----------+----------+----------+----------+----------+----------+----------+----------+\n",
      "|   antony  | 0.380701 | 0.408621 |   0.0    |   0.0    |   0.0    | 0.775474 |   0.0    |   0.0    |   0.0    |   0.0    |\n",
      "|   brutus  | 0.380701 | 0.408621 |   0.0    | 0.667839 |   0.0    |   0.0    |   0.0    |   0.0    |   0.0    |   0.0    |\n",
      "|   caeser  | 0.219176 | 0.23525  |   0.0    | 0.384486 | 0.51657  | 0.446453 |   0.0    |   0.0    |   0.0    |   0.0    |\n",
      "| cleopatra | 0.728087 |   0.0    |   0.0    |   0.0    |   0.0    |   0.0    |   0.0    |   0.0    |   0.0    |   0.0    |\n",
      "|   mercy   | 0.219176 |   0.0    | 0.603298 | 0.384486 | 0.51657  | 0.446453 |   0.0    |   0.0    |   0.0    |   0.0    |\n",
      "|   worser  | 0.289735 |   0.0    | 0.797516 | 0.508263 | 0.682869 |   0.0    |   0.0    |   0.0    |   0.0    |   0.0    |\n",
      "| calpurnia |   0.0    | 0.781483 |   0.0    |   0.0    |   0.0    |   0.0    |   0.0    |   0.0    |   0.0    |   0.0    |\n",
      "|   angels  |   0.0    |   0.0    |   0.0    |   0.0    |   0.0    |   0.0    | 0.427365 | 0.427365 | 0.472707 |   0.0    |\n",
      "|   fools   |   0.0    |   0.0    |   0.0    |   0.0    |   0.0    |   0.0    | 0.325248 | 0.325248 | 0.359756 | 0.359756 |\n",
      "|    fear   |   0.0    |   0.0    |   0.0    |   0.0    |   0.0    |   0.0    | 0.427365 | 0.427365 |   0.0    | 0.472707 |\n",
      "|     in    |   0.0    |   0.0    |   0.0    |   0.0    |   0.0    |   0.0    | 0.325248 | 0.325248 | 0.359756 | 0.359756 |\n",
      "|    rush   |   0.0    |   0.0    |   0.0    |   0.0    |   0.0    |   0.0    | 0.325248 | 0.325248 | 0.359756 | 0.359756 |\n",
      "|     to    |   0.0    |   0.0    |   0.0    |   0.0    |   0.0    |   0.0    | 0.325248 | 0.325248 | 0.359756 | 0.359756 |\n",
      "|   tread   |   0.0    |   0.0    |   0.0    |   0.0    |   0.0    |   0.0    | 0.325248 | 0.325248 | 0.359756 | 0.359756 |\n",
      "|   where   |   0.0    |   0.0    |   0.0    |   0.0    |   0.0    |   0.0    | 0.325248 | 0.325248 | 0.359756 | 0.359756 |\n",
      "+-----------+----------+----------+----------+----------+----------+----------+----------+----------+----------+----------+\n"
     ]
    }
   ],
   "source": [
    "doc_nliz = []\n",
    "for i in range(0,M): #term\n",
    "    row=[]\n",
    "    for j in range(0,N): #document\n",
    "        row.append(round(tf_idf[i][j]/doc_length[j],6))\n",
    "        #print(tf_idf[i][j] , doc_length[j])\n",
    "    doc_nliz.append(row)\n",
    "        \n",
    "#print----------------------------------------------------------------------------- \n",
    "\n",
    "print(\"'doc_nliz'\")\n",
    "printTable(doc_nliz)"
   ]
  },
  {
   "cell_type": "markdown",
   "id": "06dd877d",
   "metadata": {},
   "source": [
    "# Query"
   ]
  },
  {
   "cell_type": "code",
   "execution_count": 27,
   "id": "840ebb1a",
   "metadata": {},
   "outputs": [],
   "source": [
    "def getQueryNormalized(query):\n",
    "    query=Clean(query)\n",
    "# ----------------------------- (1) tf\n",
    "    query_tf = []\n",
    "    for t in Term:\n",
    "        query_tf.append(query.count(t))\n",
    "#------------------------------ (2) tf_wt\n",
    "    query_tf_tw = []\n",
    "    for i in range(0,M):\n",
    "        if query_tf[i] == 0:\n",
    "            query_tf_tw.append(0)\n",
    "        else:\n",
    "            query_tf_tw.append(round(1 + math.log10(query_tf[i]),9))\n",
    "#------------------------------ (3) idf calculated\n",
    "#------------------------------ (4) tf*idf\n",
    "    query_tf_idf = []\n",
    "    for i in range(0,M): #term\n",
    "        query_tf_idf.append(round(query_tf[i]*idf[i],9))\n",
    "#------------------------------ (5) query length\n",
    "    Sum=0\n",
    "    for i in range(0,M): #term\n",
    "        Sum+=query_tf_idf[i]*query_tf_idf[i]\n",
    "    query_length=round(math.sqrt(Sum),9)\n",
    "#----------------------------- (6) Normalized\n",
    "    query_nliz = []\n",
    "    for i in range(0,M): #term\n",
    "        query_nliz.append(round(query_tf_idf[i]/query_length,9))\n",
    "#------------------------------ print Table\n",
    "    table = PrettyTable()\n",
    "    table.field_names=[\" \",\"tf\", \"tf_tw\", \"idf\", \"tf_idf\", \"nliz\"]\n",
    "    for i in range(0,M):\n",
    "        table.add_row([Term[i], query_tf[i], query_tf_tw[i], idf[i], query_tf_idf[i], query_nliz[i]])\n",
    "    print(table)\n",
    "    print(\"query length =\",query_length)\n",
    "\n",
    "    return query_nliz"
   ]
  },
  {
   "cell_type": "code",
   "execution_count": 28,
   "id": "b3152b5c",
   "metadata": {},
   "outputs": [],
   "source": [
    "def getScore(q_nliz,docN):        \n",
    "    score=0\n",
    "    for i in range(0,M):\n",
    "        score+=q_nliz[i]*doc_nliz[i][docN]\n",
    "    return score"
   ]
  },
  {
   "cell_type": "code",
   "execution_count": 29,
   "id": "72c4642e",
   "metadata": {},
   "outputs": [
    {
     "name": "stdout",
     "output_type": "stream",
     "text": [
      "Enter Your Query: antony brutus\n",
      "+-----------+----+-------+--------------+-------------+-------------+\n",
      "|           | tf | tf_tw |     idf      |    tf_idf   |     nliz    |\n",
      "+-----------+----+-------+--------------+-------------+-------------+\n",
      "|   antony  | 1  |  1.0  | 0.5228787453 | 0.522878745 | 0.707106781 |\n",
      "|   brutus  | 1  |  1.0  | 0.5228787453 | 0.522878745 | 0.707106781 |\n",
      "|   caeser  | 0  |   0   | 0.3010299957 |     0.0     |     0.0     |\n",
      "| cleopatra | 0  |   0   |     1.0      |     0.0     |     0.0     |\n",
      "|   mercy   | 0  |   0   | 0.3010299957 |     0.0     |     0.0     |\n",
      "|   worser  | 0  |   0   | 0.3979400087 |     0.0     |     0.0     |\n",
      "| calpurnia | 0  |   0   |     1.0      |     0.0     |     0.0     |\n",
      "|   angels  | 0  |   0   | 0.5228787453 |     0.0     |     0.0     |\n",
      "|   fools   | 0  |   0   | 0.3979400087 |     0.0     |     0.0     |\n",
      "|    fear   | 0  |   0   | 0.5228787453 |     0.0     |     0.0     |\n",
      "|     in    | 0  |   0   | 0.3979400087 |     0.0     |     0.0     |\n",
      "|    rush   | 0  |   0   | 0.3979400087 |     0.0     |     0.0     |\n",
      "|     to    | 0  |   0   | 0.3979400087 |     0.0     |     0.0     |\n",
      "|   tread   | 0  |   0   | 0.3979400087 |     0.0     |     0.0     |\n",
      "|   where   | 0  |   0   | 0.3979400087 |     0.0     |     0.0     |\n",
      "+-----------+----+-------+--------------+-------------+-------------+\n",
      "query length = 0.739462213\n",
      "Cosine similarity doc1 = 0.538392517266962\n",
      "Cosine similarity doc2 = 0.577877359918002\n",
      "returned doc =  D2 D1 \n",
      "=========================================================================================================================\n",
      "\n",
      "Enter Your Query: brutus caeser\n",
      "+-----------+----+-------+--------------+-------------+-------------+\n",
      "|           | tf | tf_tw |     idf      |    tf_idf   |     nliz    |\n",
      "+-----------+----+-------+--------------+-------------+-------------+\n",
      "|   antony  | 0  |   0   | 0.5228787453 |     0.0     |     0.0     |\n",
      "|   brutus  | 1  |  1.0  | 0.5228787453 | 0.522878745 | 0.866637795 |\n",
      "|   caeser  | 1  |  1.0  | 0.3010299957 | 0.301029996 | 0.498937803 |\n",
      "| cleopatra | 0  |   0   |     1.0      |     0.0     |     0.0     |\n",
      "|   mercy   | 0  |   0   | 0.3010299957 |     0.0     |     0.0     |\n",
      "|   worser  | 0  |   0   | 0.3979400087 |     0.0     |     0.0     |\n",
      "| calpurnia | 0  |   0   |     1.0      |     0.0     |     0.0     |\n",
      "|   angels  | 0  |   0   | 0.5228787453 |     0.0     |     0.0     |\n",
      "|   fools   | 0  |   0   | 0.3979400087 |     0.0     |     0.0     |\n",
      "|    fear   | 0  |   0   | 0.5228787453 |     0.0     |     0.0     |\n",
      "|     in    | 0  |   0   | 0.3979400087 |     0.0     |     0.0     |\n",
      "|    rush   | 0  |   0   | 0.3979400087 |     0.0     |     0.0     |\n",
      "|     to    | 0  |   0   | 0.3979400087 |     0.0     |     0.0     |\n",
      "|   tread   | 0  |   0   | 0.3979400087 |     0.0     |     0.0     |\n",
      "|   where   | 0  |   0   | 0.3979400087 |     0.0     |     0.0     |\n",
      "+-----------+----+-------+--------------+-------------+-------------+\n",
      "query length = 0.603341728\n",
      "Cosine similarity doc1 = 0.439285067104623\n",
      "Cosine similarity doc2 = 0.471501520586445\n",
      "Cosine similarity doc4 = 0.7706091184992631\n",
      "returned doc =  D4 D2 D1 \n",
      "=========================================================================================================================\n",
      "\n",
      "Enter Your Query: nada\n",
      "none\n",
      "\n",
      "=========================================================================================================================\n",
      "\n",
      "Enter Your Query: \n"
     ]
    }
   ],
   "source": [
    "while True:\n",
    "    query = input(\"Enter Your Query: \")\n",
    "    if query == \"\":\n",
    "        break\n",
    "    result = Search(query)\n",
    "    if result == \"none\":\n",
    "        print(result)\n",
    "    else :\n",
    "        q_nliz=getQueryNormalized(query)\n",
    "        score = []\n",
    "        for docN in result:\n",
    "            sc=getScore(q_nliz,docN)\n",
    "            p=( sc , docN)\n",
    "            score.append(p)\n",
    "            print(\"Cosine similarity\",\"doc\"+str(docN+1),\"=\",sc)\n",
    "            \n",
    "        score.sort(reverse=True)\n",
    "        print(\"Returned doc = \",end = ' ')\n",
    "        for doc in score:\n",
    "            s = \"D\" + str(doc[1]+1)\n",
    "            print(s, end = ' ')        \n",
    "    print(\"\\n=========================================================================================================================\\n\")    \n",
    "\n",
    "#antony brutus    \n",
    "#antony caeser\n",
    "#brutus caeser\n",
    "#to tread where"
   ]
  },
  {
   "cell_type": "code",
   "execution_count": null,
   "id": "4600384c",
   "metadata": {},
   "outputs": [],
   "source": []
  },
  {
   "cell_type": "code",
   "execution_count": null,
   "id": "24759444",
   "metadata": {},
   "outputs": [],
   "source": []
  }
 ],
 "metadata": {
  "kernelspec": {
   "display_name": "Python 3 (ipykernel)",
   "language": "python",
   "name": "python3"
  },
  "language_info": {
   "codemirror_mode": {
    "name": "ipython",
    "version": 3
   },
   "file_extension": ".py",
   "mimetype": "text/x-python",
   "name": "python",
   "nbconvert_exporter": "python",
   "pygments_lexer": "ipython3",
   "version": "3.9.12"
  }
 },
 "nbformat": 4,
 "nbformat_minor": 5
}
